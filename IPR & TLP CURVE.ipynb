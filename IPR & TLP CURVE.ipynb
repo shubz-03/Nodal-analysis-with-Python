{
 "cells": [
  {
   "cell_type": "markdown",
   "id": "ec493061-506a-407e-931c-59a7a1cf6a5a",
   "metadata": {},
   "source": [
    "Nodal Analysis With Python"
   ]
  },
  {
   "cell_type": "code",
   "execution_count": null,
   "id": "c4305ca6-f64b-4d3d-b9a6-bc5021872311",
   "metadata": {},
   "outputs": [],
   "source": [
    "IPR & TLP CURVE "
   ]
  },
  {
   "cell_type": "code",
   "execution_count": 1,
   "id": "8e5ce6f6-9d72-413b-a14d-19a2b08d0f1c",
   "metadata": {},
   "outputs": [
    {
     "name": "stderr",
     "output_type": "stream",
     "text": [
      "Matplotlib is building the font cache; this may take a moment.\n"
     ]
    }
   ],
   "source": [
    "import numpy as np\n",
    "import pandas as pd\n",
    "import matplotlib.pyplot as plt\n",
    "%matplotlib inline"
   ]
  },
  {
   "cell_type": "code",
   "execution_count": 6,
   "id": "7c8b6697-588c-43d3-b749-09287c9133c1",
   "metadata": {},
   "outputs": [
    {
     "data": {
      "text/html": [
       "<div>\n",
       "<style scoped>\n",
       "    .dataframe tbody tr th:only-of-type {\n",
       "        vertical-align: middle;\n",
       "    }\n",
       "\n",
       "    .dataframe tbody tr th {\n",
       "        vertical-align: top;\n",
       "    }\n",
       "\n",
       "    .dataframe thead th {\n",
       "        text-align: right;\n",
       "    }\n",
       "</style>\n",
       "<table border=\"1\" class=\"dataframe\">\n",
       "  <thead>\n",
       "    <tr style=\"text-align: right;\">\n",
       "      <th></th>\n",
       "      <th>Pwf</th>\n",
       "      <th>Q</th>\n",
       "    </tr>\n",
       "  </thead>\n",
       "  <tbody>\n",
       "    <tr>\n",
       "      <th>0</th>\n",
       "      <td>4000.0</td>\n",
       "      <td>0</td>\n",
       "    </tr>\n",
       "    <tr>\n",
       "      <th>1</th>\n",
       "      <td>3500.0</td>\n",
       "      <td>1999</td>\n",
       "    </tr>\n",
       "    <tr>\n",
       "      <th>2</th>\n",
       "      <td>3000.0</td>\n",
       "      <td>3094</td>\n",
       "    </tr>\n",
       "    <tr>\n",
       "      <th>3</th>\n",
       "      <td>2500.0</td>\n",
       "      <td>3902</td>\n",
       "    </tr>\n",
       "    <tr>\n",
       "      <th>4</th>\n",
       "      <td>2000.0</td>\n",
       "      <td>4512</td>\n",
       "    </tr>\n",
       "    <tr>\n",
       "      <th>5</th>\n",
       "      <td>1500.0</td>\n",
       "      <td>4963</td>\n",
       "    </tr>\n",
       "    <tr>\n",
       "      <th>6</th>\n",
       "      <td>1000.0</td>\n",
       "      <td>5275</td>\n",
       "    </tr>\n",
       "    <tr>\n",
       "      <th>7</th>\n",
       "      <td>500.0</td>\n",
       "      <td>5458</td>\n",
       "    </tr>\n",
       "    <tr>\n",
       "      <th>8</th>\n",
       "      <td>14.7</td>\n",
       "      <td>5519</td>\n",
       "    </tr>\n",
       "  </tbody>\n",
       "</table>\n",
       "</div>"
      ],
      "text/plain": [
       "      Pwf     Q\n",
       "0  4000.0     0\n",
       "1  3500.0  1999\n",
       "2  3000.0  3094\n",
       "3  2500.0  3902\n",
       "4  2000.0  4512\n",
       "5  1500.0  4963\n",
       "6  1000.0  5275\n",
       "7   500.0  5458\n",
       "8    14.7  5519"
      ]
     },
     "execution_count": 6,
     "metadata": {},
     "output_type": "execute_result"
    }
   ],
   "source": [
    "#First Let's Get the IPR dataset. (Source : PetroWiki)\n",
    "ipr = pd.DataFrame({'Pwf':[4000,3500,3000,2500,2000,1500,1000,500,14.7],\n",
    "                    'Q': [0,1999,3094,3902,4512,4963,5275,5458,5519]})\n",
    "\n",
    "ipr\n"
   ]
  },
  {
   "cell_type": "code",
   "execution_count": 12,
   "id": "bc933efb-ed97-4e19-b9d1-959e86020623",
   "metadata": {},
   "outputs": [
    {
     "data": {
      "text/html": [
       "<div>\n",
       "<style scoped>\n",
       "    .dataframe tbody tr th:only-of-type {\n",
       "        vertical-align: middle;\n",
       "    }\n",
       "\n",
       "    .dataframe tbody tr th {\n",
       "        vertical-align: top;\n",
       "    }\n",
       "\n",
       "    .dataframe thead th {\n",
       "        text-align: right;\n",
       "    }\n",
       "</style>\n",
       "<table border=\"1\" class=\"dataframe\">\n",
       "  <thead>\n",
       "    <tr style=\"text-align: right;\">\n",
       "      <th></th>\n",
       "      <th>q</th>\n",
       "      <th>Pwf(1.90\" tbg)</th>\n",
       "      <th>Pwf(2.375\"tbg)</th>\n",
       "      <th>Pwf(2.875\"tbg)</th>\n",
       "    </tr>\n",
       "  </thead>\n",
       "  <tbody>\n",
       "    <tr>\n",
       "      <th>0</th>\n",
       "      <td>1000</td>\n",
       "      <td>1334</td>\n",
       "      <td>1298</td>\n",
       "      <td>1286</td>\n",
       "    </tr>\n",
       "    <tr>\n",
       "      <th>1</th>\n",
       "      <td>1500</td>\n",
       "      <td>1400</td>\n",
       "      <td>1320</td>\n",
       "      <td>1294</td>\n",
       "    </tr>\n",
       "    <tr>\n",
       "      <th>2</th>\n",
       "      <td>2000</td>\n",
       "      <td>1487</td>\n",
       "      <td>1351</td>\n",
       "      <td>1305</td>\n",
       "    </tr>\n",
       "    <tr>\n",
       "      <th>3</th>\n",
       "      <td>2500</td>\n",
       "      <td>1592</td>\n",
       "      <td>1390</td>\n",
       "      <td>1319</td>\n",
       "    </tr>\n",
       "    <tr>\n",
       "      <th>4</th>\n",
       "      <td>3000</td>\n",
       "      <td>1712</td>\n",
       "      <td>1435</td>\n",
       "      <td>1336</td>\n",
       "    </tr>\n",
       "    <tr>\n",
       "      <th>5</th>\n",
       "      <td>3500</td>\n",
       "      <td>1843</td>\n",
       "      <td>1487</td>\n",
       "      <td>1356</td>\n",
       "    </tr>\n",
       "    <tr>\n",
       "      <th>6</th>\n",
       "      <td>4000</td>\n",
       "      <td>1984</td>\n",
       "      <td>1545</td>\n",
       "      <td>1378</td>\n",
       "    </tr>\n",
       "    <tr>\n",
       "      <th>7</th>\n",
       "      <td>4500</td>\n",
       "      <td>2132</td>\n",
       "      <td>1609</td>\n",
       "      <td>1403</td>\n",
       "    </tr>\n",
       "    <tr>\n",
       "      <th>8</th>\n",
       "      <td>5000</td>\n",
       "      <td>2287</td>\n",
       "      <td>1677</td>\n",
       "      <td>1431</td>\n",
       "    </tr>\n",
       "    <tr>\n",
       "      <th>9</th>\n",
       "      <td>5500</td>\n",
       "      <td>2446</td>\n",
       "      <td>1749</td>\n",
       "      <td>1461</td>\n",
       "    </tr>\n",
       "    <tr>\n",
       "      <th>10</th>\n",
       "      <td>6000</td>\n",
       "      <td>2609</td>\n",
       "      <td>1824</td>\n",
       "      <td>1493</td>\n",
       "    </tr>\n",
       "  </tbody>\n",
       "</table>\n",
       "</div>"
      ],
      "text/plain": [
       "       q  Pwf(1.90\" tbg)  Pwf(2.375\"tbg)  Pwf(2.875\"tbg)\n",
       "0   1000            1334            1298            1286\n",
       "1   1500            1400            1320            1294\n",
       "2   2000            1487            1351            1305\n",
       "3   2500            1592            1390            1319\n",
       "4   3000            1712            1435            1336\n",
       "5   3500            1843            1487            1356\n",
       "6   4000            1984            1545            1378\n",
       "7   4500            2132            1609            1403\n",
       "8   5000            2287            1677            1431\n",
       "9   5500            2446            1749            1461\n",
       "10  6000            2609            1824            1493"
      ]
     },
     "execution_count": 12,
     "metadata": {},
     "output_type": "execute_result"
    }
   ],
   "source": [
    "#Now TPR Data\n",
    "q = np.arange(1000,6500,500)\n",
    "p_190 = [1334,1400,1487,1592,1712,1843,1984,2132,2287,2446,2609]\n",
    "\n",
    "p_2375 = [1298,1320,1351,1390,1435,1487,1545,1609,1677,1749,1824]\n",
    "\n",
    "p_2875 = [1286,1294,1305,1319,1336,1356,1378,1403,1431,1461,1493]\n",
    "\n",
    "tpr = pd.DataFrame({'q':q, 'Pwf(1.90\" tbg)':p_190, 'Pwf(2.375\"tbg)': p_2375,'Pwf(2.875\"tbg)':p_2875})\n",
    "tpr\n"
   ]
  },
  {
   "cell_type": "code",
   "execution_count": 13,
   "id": "315defc1-0e63-490d-83ba-7a4e3ef824b1",
   "metadata": {},
   "outputs": [
    {
     "data": {
      "text/plain": [
       "<matplotlib.legend.Legend at 0x1d4de60f3d0>"
      ]
     },
     "execution_count": 13,
     "metadata": {},
     "output_type": "execute_result"
    },
    {
     "data": {
      "image/png": "[encoded data removed]",
      "text/plain": [
       "<Figure size 576x288 with 1 Axes>"
      ]
     },
     "metadata": {
      "needs_background": "light"
     },
     "output_type": "display_data"
    }
   ],
   "source": [
    "#Let's Plot them now. \n",
    "plt.figure(figsize=(8,4))\n",
    "\n",
    "plt.style.use('default')\n",
    "\n",
    "plt.plot(ipr['Q'], ipr['Pwf'], label = 'IPR', linewidth=1.5)\n",
    "\n",
    "plt.plot(tpr['q'],tpr['Pwf(1.90\" tbg)'],label='TPR for 1.9\" tubing', linewidth=1.5)\n",
    "plt.plot(tpr['q'],tpr['Pwf(2.375\"tbg)'],label='TPR for 2.375\" tubing', linewidth=1.5)\n",
    "plt.plot(tpr['q'],tpr['Pwf(2.875\"tbg)'],label='TPR for 2.875\" tubing', linewidth=1.5)\n",
    "\n",
    "plt.xlabel('FlowRate(Mscf/D)')\n",
    "plt.ylabel('Flowing BHP(Psia)')\n",
    "plt.title('Nodal Analysis for a Gas Well')\n",
    "\n",
    "plt.grid()\n",
    "\n",
    "plt.legend(loc='best')"
   ]
  }
 ],
 "metadata": {
  "kernelspec": {
   "display_name": "Python 3 (ipykernel)",
   "language": "python",
   "name": "python3"
  },
  "language_info": {
   "codemirror_mode": {
    "name": "ipython",
    "version": 3
   },
   "file_extension": ".py",
   "mimetype": "text/x-python",
   "name": "python",
   "nbconvert_exporter": "python",
   "pygments_lexer": "ipython3",
   "version": "3.9.12"
  }
 },
 "nbformat": 4,
 "nbformat_minor": 5
}
